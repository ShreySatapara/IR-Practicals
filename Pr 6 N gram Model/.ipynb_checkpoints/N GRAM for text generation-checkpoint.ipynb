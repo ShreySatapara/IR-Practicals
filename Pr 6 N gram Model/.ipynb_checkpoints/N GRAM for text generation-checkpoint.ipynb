{
 "cells": [
  {
   "cell_type": "code",
   "execution_count": 5,
   "metadata": {},
   "outputs": [],
   "source": [
    "import string\n",
    "import random\n",
    "import time\n",
    "from typing import List"
   ]
  },
  {
   "cell_type": "code",
   "execution_count": 6,
   "metadata": {},
   "outputs": [],
   "source": [
    "\n",
    "def tokenize(text: str) -> List[str]:\n",
    "    for punct in string.punctuation:\n",
    "        text = text.replace(punct, ' '+punct+' ')\n",
    "    t = text.split()\n",
    "    return t\n",
    "\n",
    "def get_ngrams(n: int, tokens: list) -> list:\n",
    "    # tokens.append('<END>')\n",
    "    tokens = (n-1)*['<START>']+tokens\n",
    "    l = [(tuple([tokens[i-p-1] for p in reversed(range(n-1))]), tokens[i]) for i in range(n-1, len(tokens))]\n",
    "    return l"
   ]
  },
  {
   "cell_type": "code",
   "execution_count": 67,
   "metadata": {},
   "outputs": [],
   "source": [
    "\n",
    "class NgramModel(object):\n",
    "\n",
    "    def __init__(self, n):\n",
    "        self.n = n\n",
    "\n",
    "        \n",
    "        self.context = {}\n",
    "\n",
    "        \n",
    "        self.ngram_counter = {}\n",
    "\n",
    "    def update(self, sentence: str) -> None:\n",
    "        n = self.n\n",
    "        ngrams = get_ngrams(n, tokenize(sentence))\n",
    "        for ngram in ngrams:\n",
    "            if ngram in self.ngram_counter:\n",
    "                self.ngram_counter[ngram] += 1.0\n",
    "            else:\n",
    "                self.ngram_counter[ngram] = 1.0\n",
    "\n",
    "            prev_words, target_word = ngram\n",
    "            if prev_words in self.context:\n",
    "                self.context[prev_words].append(target_word)\n",
    "            else:\n",
    "                self.context[prev_words] = [target_word]\n",
    "\n",
    "    def prob(self, context, token):\n",
    "        try:\n",
    "            count_of_token = self.ngram_counter[(context, token)]\n",
    "            count_of_context = float(len(self.context[context]))\n",
    "            result = count_of_token / count_of_context\n",
    "\n",
    "        except KeyError:\n",
    "            result = 0.0\n",
    "        return result\n",
    "\n",
    "    def random_token(self, context):\n",
    "        print(context)\n",
    "        r = random.random()\n",
    "        map_to_probs = {}\n",
    "        token_of_interest = self.context[context]\n",
    "        for token in token_of_interest:\n",
    "            map_to_probs[token] = self.prob(context, token)\n",
    "\n",
    "        summ = 0\n",
    "        for token in sorted(map_to_probs):\n",
    "            summ += map_to_probs[token]\n",
    "            if summ > r:\n",
    "                return token\n",
    "\n",
    "    def generate_text(self, token_count: int):\n",
    "        n = self.n\n",
    "        context_queue = (n - 1) * ['<START>']\n",
    "        #context_queue[-1] = word\n",
    "        result = []\n",
    "        for _ in range(token_count):\n",
    "            obj = self.random_token(tuple(context_queue))\n",
    "            result.append(obj)\n",
    "            if n > 1:\n",
    "                context_queue.pop(0)\n",
    "                if obj == '.':\n",
    "                    context_queue = (n - 1) * ['<START>']\n",
    "                else:\n",
    "                    context_queue.append(obj)\n",
    "        return ' '.join(result)\n"
   ]
  },
  {
   "cell_type": "code",
   "execution_count": 68,
   "metadata": {},
   "outputs": [],
   "source": [
    "def create_ngram_model(n, path):\n",
    "    m = NgramModel(n)\n",
    "    with open(path, 'r',encoding='utf-8') as f:\n",
    "        text = f.read()\n",
    "        text = text.split('.')\n",
    "        for sentence in text:\n",
    "            sentence += '.'\n",
    "            m.update(sentence)\n",
    "    return m\n"
   ]
  },
  {
   "cell_type": "code",
   "execution_count": 70,
   "metadata": {},
   "outputs": [
    {
     "name": "stdout",
     "output_type": "stream",
     "text": [
      "Language Model creating time: 0.19603443145751953\n",
      "==================================================\n",
      "Generated text:\n",
      "('<START>', '<START>', '<START>', '<START>', '<START>')\n",
      "('<START>', '<START>', '<START>', '<START>', '“I')\n",
      "('<START>', '<START>', '<START>', '“I', 'soon')\n",
      "('<START>', '<START>', '“I', 'soon', 'perceived')\n",
      "('<START>', '“I', 'soon', 'perceived', 'that')\n",
      "('“I', 'soon', 'perceived', 'that', 'although')\n",
      "('soon', 'perceived', 'that', 'although', 'the')\n",
      "('perceived', 'that', 'although', 'the', 'stranger')\n",
      "('that', 'although', 'the', 'stranger', 'uttered')\n",
      "('although', 'the', 'stranger', 'uttered', 'articulate')\n",
      "('the', 'stranger', 'uttered', 'articulate', 'sounds')\n",
      "('stranger', 'uttered', 'articulate', 'sounds', 'and')\n",
      "('uttered', 'articulate', 'sounds', 'and', 'appeared')\n",
      "('articulate', 'sounds', 'and', 'appeared', 'to')\n",
      "('sounds', 'and', 'appeared', 'to', 'have')\n",
      "('and', 'appeared', 'to', 'have', 'a')\n",
      "('appeared', 'to', 'have', 'a', 'language')\n",
      "('to', 'have', 'a', 'language', 'of')\n",
      "('have', 'a', 'language', 'of', 'her')\n",
      "('a', 'language', 'of', 'her', 'own')\n",
      "“I soon perceived that although the stranger uttered articulate sounds and appeared to have a language of her own ,\n",
      "==================================================\n"
     ]
    }
   ],
   "source": [
    "start = time.time()\n",
    "m = create_ngram_model(6, 'corpus.txt')\n",
    "print (f'Language Model creating time: {time.time() - start}')\n",
    "start = time.time()\n",
    "#every time it'll choose random word from corpus to start with\n",
    "print(f'{\"=\"*50}\\nGenerated text:')\n",
    "print(m.generate_text(20))\n",
    "print(f'{\"=\"*50}')"
   ]
  },
  {
   "cell_type": "code",
   "execution_count": null,
   "metadata": {},
   "outputs": [],
   "source": []
  },
  {
   "cell_type": "code",
   "execution_count": null,
   "metadata": {},
   "outputs": [],
   "source": []
  }
 ],
 "metadata": {
  "kernelspec": {
   "display_name": "Python 3",
   "language": "python",
   "name": "python3"
  },
  "language_info": {
   "codemirror_mode": {
    "name": "ipython",
    "version": 3
   },
   "file_extension": ".py",
   "mimetype": "text/x-python",
   "name": "python",
   "nbconvert_exporter": "python",
   "pygments_lexer": "ipython3",
   "version": "3.8.5"
  }
 },
 "nbformat": 4,
 "nbformat_minor": 4
}
