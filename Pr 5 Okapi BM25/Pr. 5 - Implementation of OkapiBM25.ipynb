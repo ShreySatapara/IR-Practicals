{
 "cells": [
  {
   "cell_type": "code",
   "execution_count": 28,
   "metadata": {},
   "outputs": [],
   "source": [
    "import gensim\n",
    "from gensim import corpora\n",
    "import math"
   ]
  },
  {
   "cell_type": "code",
   "execution_count": 35,
   "metadata": {},
   "outputs": [],
   "source": [
    "class BM25 :\n",
    "    def __init__(self, fn_docs, delimiter='|') :\n",
    "        self.dictionary = corpora.Dictionary()\n",
    "        self.DF = {}\n",
    "        self.delimiter = delimiter\n",
    "        self.DocTF = []\n",
    "        self.DocIDF = {}\n",
    "        self.N = 0\n",
    "        self.DocAvgLen = 0\n",
    "        self.fn_docs = fn_docs\n",
    "        self.DocLen = []\n",
    "        self.buildDictionary()\n",
    "        self.TFIDF_Generator()\n",
    "\n",
    "    def buildDictionary(self) :\n",
    "        raw_data = []\n",
    "        for line in open(self.fn_docs) :\n",
    "            raw_data.append(line.strip().split(self.delimiter))\n",
    "        self.dictionary.add_documents(raw_data)\n",
    "\n",
    "    def TFIDF_Generator(self, base=math.e) :\n",
    "        docTotalLen = 0\n",
    "        for line in open(self.fn_docs) :\n",
    "            doc = line.strip().split(self.delimiter)\n",
    "            docTotalLen += len(doc)\n",
    "            self.DocLen.append(len(doc))\n",
    "            #print self.dictionary.doc2bow(doc)\n",
    "            bow = dict([(term, freq*1.0/len(doc)) for term, freq in self.dictionary.doc2bow(doc)])\n",
    "            for term, tf in bow.items() :\n",
    "                if term not in self.DF :\n",
    "                    self.DF[term] = 0\n",
    "                self.DF[term] += 1\n",
    "            self.DocTF.append(bow)\n",
    "            self.N = self.N + 1\n",
    "        for term in self.DF:\n",
    "            self.DocIDF[term] = math.log((self.N - self.DF[term] +0.5) / (self.DF[term] + 0.5), base)\n",
    "        self.DocAvgLen = docTotalLen / self.N\n",
    "\n",
    "    def BM25Score(self, Query=[], k1=1.5, b=0.75) :\n",
    "        query_bow = self.dictionary.doc2bow(Query)\n",
    "        scores = []\n",
    "        for idx, doc in enumerate(self.DocTF) :\n",
    "            commonTerms = set(dict(query_bow).keys()) & set(doc.keys())\n",
    "            tmp_score = []\n",
    "            doc_terms_len = self.DocLen[idx]\n",
    "            for term in commonTerms :\n",
    "                upper = (doc[term] * (k1+1))\n",
    "                below = ((doc[term]) + k1*(1 - b + b*doc_terms_len/self.DocAvgLen))\n",
    "                tmp_score.append(self.DocIDF[term] * upper / below)\n",
    "            scores.append(sum(tmp_score))\n",
    "        return scores\n",
    "\n",
    "    def TFIDF(self) :\n",
    "        tfidf = []\n",
    "        for doc in self.DocTF :\n",
    "            doc_tfidf  = [(term, tf*self.DocIDF[term]) for term, tf in doc.items()]\n",
    "            doc_tfidf.sort()\n",
    "            tfidf.append(doc_tfidf)\n",
    "        return tfidf\n",
    "\n",
    "    def Items(self) :\n",
    "        items = sorted(self.dictionary.items())    \n",
    "        return items\n",
    "    "
   ]
  },
  {
   "cell_type": "code",
   "execution_count": 36,
   "metadata": {},
   "outputs": [
    {
     "name": "stdout",
     "output_type": "stream",
     "text": [
      "[(0, 'Human'), (1, 'abc'), (2, 'applications'), (3, 'computer'), (4, 'for'), (5, 'interface'), (6, 'lab'), (7, 'machine'), (8, 'A'), (9, 'of'), (10, 'opinion'), (11, 'response'), (12, 'survey'), (13, 'system'), (14, 'time'), (15, 'user'), (16, 'EPS'), (17, 'The'), (18, 'management'), (19, 'System'), (20, 'and'), (21, 'engineering'), (22, 'human'), (23, 'testing'), (24, 'Relation'), (25, 'error'), (26, 'measurement'), (27, 'perceived'), (28, 'to'), (29, 'binary'), (30, 'generation'), (31, 'random'), (32, 'trees'), (33, 'unordered'), (34, 'graph'), (35, 'in'), (36, 'intersection'), (37, 'paths'), (38, 'Graph'), (39, 'IV'), (40, 'Widths'), (41, 'ordering'), (42, 'quasi'), (43, 'well'), (44, 'minors')]\n",
      "0 [(0, 0.2168251319235133), (1, 0.2168251319235133), (2, 0.2168251319235133), (3, 0.13732653608351372), (4, 0.2168251319235133), (5, 0.13732653608351372), (6, 0.2168251319235133), (7, 0.2168251319235133)]\n",
      "1 [(3, 0.10986122886681099), (8, 0.10986122886681099), (9, -0.1238078416812447), (10, 0.17346010553881064), (11, 0.10986122886681099), (12, 0.10986122886681099), (13, 0.06190392084062235), (14, 0.10986122886681099), (15, 0.06190392084062235)]\n",
      "2 [(5, 0.1831020481113516), (13, 0.10317320140103725), (15, 0.10317320140103725), (16, 0.1831020481113516), (17, 0.10317320140103725), (18, 0.28910017589801773)]\n",
      "3 [(9, -0.07737990105077794), (13, 0.07737990105077794), (16, 0.13732653608351372), (19, 0.2168251319235133), (20, 0.13732653608351372), (21, 0.2168251319235133), (22, 0.2168251319235133), (23, 0.2168251319235133)]\n",
      "4 [(9, -0.06878213426735816), (11, 0.12206803207423442), (14, 0.12206803207423442), (15, 0.06878213426735816), (24, 0.19273345059867847), (25, 0.19273345059867847), (26, 0.19273345059867847), (27, 0.19273345059867847), (28, 0.19273345059867847)]\n",
      "5 [(9, -0.0884341726294605), (17, 0.0884341726294605), (29, 0.24780015076972947), (30, 0.24780015076972947), (31, 0.24780015076972947), (32, 0.0884341726294605), (33, 0.24780015076972947)]\n",
      "6 [(9, -0.0884341726294605), (17, 0.0884341726294605), (32, 0.0884341726294605), (34, 0.24780015076972947), (35, 0.24780015076972947), (36, 0.24780015076972947), (37, 0.24780015076972947)]\n",
      "7 [(9, -0.06878213426735816), (20, 0.12206803207423442), (32, 0.06878213426735816), (38, 0.12206803207423442), (39, 0.19273345059867847), (40, 0.19273345059867847), (41, 0.19273345059867847), (42, 0.19273345059867847), (43, 0.19273345059867847)]\n",
      "8 [(8, 0.27465307216702745), (12, 0.27465307216702745), (38, 0.27465307216702745), (44, 0.4336502638470266)]\n"
     ]
    }
   ],
   "source": [
    "fn_docs = 'doc.txt'\n",
    "bm25 = BM25(fn_docs, delimiter=' ')\n",
    "Query = 'The intersection graph of paths in trees survey Graph'\n",
    "Query = Query.split()\n",
    "scores = bm25.BM25Score(Query)\n",
    "tfidf = bm25.TFIDF()\n",
    "print(bm25.Items())\n",
    "for i, tfidfscore in enumerate(tfidf):\n",
    "    print(i, tfidfscore)"
   ]
  },
  {
   "cell_type": "code",
   "execution_count": null,
   "metadata": {},
   "outputs": [],
   "source": []
  }
 ],
 "metadata": {
  "kernelspec": {
   "display_name": "Python 3",
   "language": "python",
   "name": "python3"
  },
  "language_info": {
   "codemirror_mode": {
    "name": "ipython",
    "version": 3
   },
   "file_extension": ".py",
   "mimetype": "text/x-python",
   "name": "python",
   "nbconvert_exporter": "python",
   "pygments_lexer": "ipython3",
   "version": "3.8.5"
  }
 },
 "nbformat": 4,
 "nbformat_minor": 4
}
